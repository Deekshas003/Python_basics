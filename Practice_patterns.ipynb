{
 "cells": [
  {
   "cell_type": "code",
   "execution_count": 65,
   "id": "6a49f066-9389-402f-8b64-b8a8c978480b",
   "metadata": {},
   "outputs": [
    {
     "name": "stdout",
     "output_type": "stream",
     "text": [
      "* * * * * * "
     ]
    }
   ],
   "source": [
    "# n *\n",
    "n=6\n",
    "for i in range(n):\n",
    "      print('*',end=\" \")\n",
    "    "
   ]
  },
  {
   "cell_type": "code",
   "execution_count": 66,
   "id": "6633483a-e930-4ecf-a57d-8eb68c414425",
   "metadata": {},
   "outputs": [
    {
     "name": "stdout",
     "output_type": "stream",
     "text": [
      "* * * * * * \n",
      "* * * * * * \n",
      "* * * * * * \n",
      "* * * * * * \n",
      "* * * * * * \n",
      "* * * * * * \n"
     ]
    }
   ],
   "source": [
    "# n * in square without j loop\n",
    "n=6\n",
    "for i in range(n):\n",
    "      print('* ' * n)"
   ]
  },
  {
   "cell_type": "code",
   "execution_count": 67,
   "id": "253fb8d5-a661-47c7-b245-28b41b55bec8",
   "metadata": {},
   "outputs": [
    {
     "name": "stdout",
     "output_type": "stream",
     "text": [
      "6 6 6 6 6 6 \n",
      "6 6 6 6 6 6 \n",
      "6 6 6 6 6 6 \n",
      "6 6 6 6 6 6 \n",
      "6 6 6 6 6 6 \n",
      "6 6 6 6 6 6 \n"
     ]
    }
   ],
   "source": [
    "# print constant symbol\n",
    "n=6\n",
    "for i in range(n):\n",
    "    print((str(n)+ \" \")*n)\n",
    "    "
   ]
  },
  {
   "cell_type": "code",
   "execution_count": 68,
   "id": "8f4fcb5d-3275-4e48-b174-e93c55eefbe2",
   "metadata": {},
   "outputs": [
    {
     "name": "stdout",
     "output_type": "stream",
     "text": [
      "* * * * * \n",
      "* * * * * \n",
      "* * * * * \n",
      "* * * * * \n",
      "* * * * * \n",
      "* * * * * \n"
     ]
    }
   ],
   "source": [
    "# using j loop\n",
    "n=6\n",
    "for i in range(n):\n",
    "    for j in range(n-1):\n",
    "        print('*',end=' ')\n",
    "    print()\n",
    "    "
   ]
  },
  {
   "cell_type": "code",
   "execution_count": 70,
   "id": "6187c0e3-ac29-4074-bbb3-84488366c418",
   "metadata": {},
   "outputs": [
    {
     "name": "stdout",
     "output_type": "stream",
     "text": [
      "1 1 1 1 1 1 \n",
      "2 2 2 2 2 2 \n",
      "3 3 3 3 3 3 \n",
      "4 4 4 4 4 4 \n",
      "5 5 5 5 5 5 \n",
      "6 6 6 6 6 6 \n",
      "1 1 1 1 1 1 \n",
      "2 2 2 2 2 2 \n",
      "3 3 3 3 3 3 \n",
      "4 4 4 4 4 4 \n",
      "5 5 5 5 5 5 \n",
      "6 6 6 6 6 6 \n"
     ]
    }
   ],
   "source": [
    "n=6\n",
    "for i in range(n):\n",
    "    print((str(i+1)+' ')*n)\n",
    "\n",
    "\n",
    "n=6\n",
    "val=1\n",
    "for i in range(n):\n",
    "    for j in range(n):\n",
    "        print(val ,end=\" \")\n",
    "    val+=1\n",
    "    print()"
   ]
  },
  {
   "cell_type": "code",
   "execution_count": 72,
   "id": "9b088191-66f6-4591-b535-9e94551c0e50",
   "metadata": {},
   "outputs": [
    {
     "name": "stdout",
     "output_type": "stream",
     "text": [
      "A A A A A A \n",
      "A A A A A A \n",
      "A A A A A A \n",
      "A A A A A A \n",
      "A A A A A A \n",
      "A A A A A A \n",
      "\n",
      "A A A A A A \n",
      "A A A A A A \n",
      "A A A A A A \n",
      "A A A A A A \n",
      "A A A A A A \n",
      "A A A A A A \n"
     ]
    }
   ],
   "source": [
    "n=6\n",
    "for i in range(n):\n",
    "    print(('A'+' ')*n)\n",
    "\n",
    "\n",
    "print()\n",
    "n=6\n",
    "val=ord('A')\n",
    "for i in range(n):\n",
    "    for j in range(n):\n",
    "        print(chr(val) ,end=\" \")\n",
    "    print()\n",
    "        \n",
    "    \n"
   ]
  },
  {
   "cell_type": "code",
   "execution_count": 73,
   "id": "4580b460-b41c-4381-8376-e5570b6efe0d",
   "metadata": {},
   "outputs": [
    {
     "name": "stdout",
     "output_type": "stream",
     "text": [
      "1       \n",
      "1 2     \n",
      "1 2 3   \n",
      "1 2 3 4 \n",
      "\n",
      "      1 \n",
      "    1 2 \n",
      "  1 2 3 \n",
      "1 2 3 4 \n",
      "\n",
      "1 2 3 4 \n",
      "1 2 3   \n",
      "1 2     \n",
      "1       \n",
      "\n",
      "1 2 3 4 \n",
      "  1 2 3 \n",
      "    1 2 \n",
      "      1 \n"
     ]
    }
   ],
   "source": [
    "n=4\n",
    "for i in range(n):\n",
    "    val=1\n",
    "    for j in range(n):\n",
    "        if i>=j:\n",
    "            print(val,end=\" \")\n",
    "            val+=1\n",
    "        else:\n",
    "            print(\" \",end=' ')\n",
    "    val+=1\n",
    "    print()\n",
    "\n",
    "\n",
    "print()\n",
    "n=4\n",
    "for i in range(n):\n",
    "    val=1\n",
    "    for j in range(n):\n",
    "        if i+j>=n-1:\n",
    "            print(val,end=\" \")\n",
    "            val+=1\n",
    "        else:\n",
    "            print(\" \",end=' ')\n",
    "    val+=1\n",
    "    print()\n",
    "\n",
    "\n",
    "print()\n",
    "n=4\n",
    "for i in range(n):\n",
    "    val=1\n",
    "    for j in range(n):\n",
    "        if i+j<=n-1:\n",
    "            print(val,end=\" \")\n",
    "            val+=1\n",
    "        else:\n",
    "            print(\" \",end=' ')\n",
    "    val+=1\n",
    "    print()\n",
    "\n",
    "print()\n",
    "n=4\n",
    "for i in range(n):\n",
    "    val=1\n",
    "    for j in range(n):\n",
    "        if i<=j:\n",
    "            print(val,end=\" \")\n",
    "            val+=1\n",
    "        else:\n",
    "            print(\" \",end=' ')\n",
    "    val+=1\n",
    "    print()\n",
    "\n"
   ]
  },
  {
   "cell_type": "code",
   "execution_count": 27,
   "id": "a8251147-070c-48fd-93d2-1189bc37e35b",
   "metadata": {},
   "outputs": [
    {
     "name": "stdout",
     "output_type": "stream",
     "text": [
      "4       \n",
      "4 3     \n",
      "4 3 2   \n",
      "4 3 2 1 \n",
      "\n",
      "      4 \n",
      "    4 3 \n",
      "  4 3 2 \n",
      "4 3 2 1 \n",
      "\n",
      "4 3 2 1 \n",
      "  4 3 2 \n",
      "    4 3 \n",
      "      4 \n",
      "\n",
      "4 3 2 1 \n",
      "4 3 2   \n",
      "4 3     \n",
      "4       \n"
     ]
    }
   ],
   "source": [
    "n=4\n",
    "for i in range(n):\n",
    "    val=4\n",
    "    for j in range(n):\n",
    "        if i>=j:\n",
    "            print(val,end=\" \")\n",
    "            val-=1\n",
    "        else:\n",
    "            print(\" \",end=' ')\n",
    "    val-=1\n",
    "    print()\n",
    "\n",
    "\n",
    "print()\n",
    "n=4\n",
    "for i in range(n):\n",
    "    val=4\n",
    "    for j in range(n):\n",
    "        if i+j>=n-1:\n",
    "            print(val,end=\" \")\n",
    "            val-=1\n",
    "        else:\n",
    "            print(\" \",end=' ')\n",
    "    val-=1\n",
    "    print()\n",
    "\n",
    "print()\n",
    "n=4\n",
    "for i in range(n):\n",
    "    val=4\n",
    "    for j in range(n):\n",
    "        if i<=j:\n",
    "            print(val,end=\" \")\n",
    "            val-=1\n",
    "        else:\n",
    "            print(\" \",end=' ')\n",
    "    val-=1\n",
    "    print()\n",
    "\n",
    "\n",
    "print()\n",
    "n=4\n",
    "for i in range(n):\n",
    "    val=4\n",
    "    for j in range(n):\n",
    "        if i+j<=n-1:\n",
    "            print(val,end=\" \")\n",
    "            val-=1\n",
    "        else:\n",
    "            print(\" \",end=' ')\n",
    "    val-=1\n",
    "    print()\n",
    "\n",
    "\n",
    "\n",
    "\n"
   ]
  },
  {
   "cell_type": "code",
   "execution_count": 74,
   "id": "2f53f7f9-e251-49a7-a279-0df30bee4ecc",
   "metadata": {},
   "outputs": [
    {
     "name": "stdout",
     "output_type": "stream",
     "text": [
      "A       \n",
      "A B     \n",
      "A B C   \n",
      "A B C D \n"
     ]
    }
   ],
   "source": [
    "n=4\n",
    "for i in range(n):\n",
    "    val=ord('A')\n",
    "    for j in range(n):\n",
    "        if i>=j:\n",
    "            print(chr(val),end=\" \")\n",
    "            val+=1\n",
    "        else:\n",
    "            print(\" \",end=' ')\n",
    "    val+=1\n",
    "    print()\n",
    "\n"
   ]
  },
  {
   "cell_type": "code",
   "execution_count": 75,
   "id": "13f73a02-b33b-40d4-be6a-c634b4a21865",
   "metadata": {},
   "outputs": [
    {
     "name": "stdout",
     "output_type": "stream",
     "text": [
      "A       \n",
      "  B     \n",
      "    C   \n",
      "      D \n",
      "\n",
      "      A \n",
      "    B   \n",
      "  C     \n",
      "D       \n"
     ]
    }
   ],
   "source": [
    "n=4\n",
    "val=ord('A')\n",
    "for i in range(n):\n",
    "    for j in range(n):\n",
    "        if i==j:\n",
    "            print(chr(val),end=\" \")\n",
    "            \n",
    "        else:\n",
    "            print(\" \",end=' ')\n",
    "    val+=1\n",
    "    print()\n",
    "\n",
    "print()\n",
    "n=4\n",
    "val=ord('A')\n",
    "for i in range(n):\n",
    "    for j in range(n):\n",
    "        if i+j==n-1:\n",
    "            print(chr(val),end=\" \")\n",
    "            val+=1\n",
    "        else:\n",
    "            print(\" \",end=' ')\n",
    "\n",
    "    print()"
   ]
  },
  {
   "cell_type": "code",
   "execution_count": 78,
   "id": "9ed45f60-e340-43ae-ba33-904d8ca84075",
   "metadata": {},
   "outputs": [
    {
     "name": "stdout",
     "output_type": "stream",
     "text": [
      "1 \n",
      "# 2 \n",
      "3 # 4 \n",
      "# 5 # 6 \n",
      "7 # 8 # 9 \n",
      "# 10 # 11 # 12 \n"
     ]
    }
   ],
   "source": [
    "n=6\n",
    "val=1\n",
    "for i in range(n):\n",
    "    for j in range(i+1):\n",
    "   \n",
    "            if (i%2==0 and j%2==0) or (i%2!=0 and j%2!=0): \n",
    "                print(val,end=\" \")\n",
    "                val+=1\n",
    "            \n",
    "            else:\n",
    "                print(\"#\",end=\" \")\n",
    "\n",
    "    print()"
   ]
  },
  {
   "cell_type": "code",
   "execution_count": null,
   "id": "aa6bec44-1e95-41e4-b97e-ad76fa0768c6",
   "metadata": {},
   "outputs": [],
   "source": []
  },
  {
   "cell_type": "code",
   "execution_count": 80,
   "id": "72ff5c1c-b831-4e50-be06-727623ff1aa7",
   "metadata": {},
   "outputs": [
    {
     "name": "stdout",
     "output_type": "stream",
     "text": [
      "A B A B A B \n",
      "B A B A B A \n",
      "A B A B A B \n",
      "B A B A B A \n",
      "A B A B A B \n",
      "B A B A B A \n"
     ]
    }
   ],
   "source": [
    "n=6\n",
    "val=ord('A')\n",
    "val2=ord('B')\n",
    "for i in range(n):\n",
    "    for j in range(n):\n",
    "        if i==j :\n",
    "            print(chr(val),end=' ')\n",
    "        elif (i+j)%2==0:\n",
    "             print(chr(val),end=' ')\n",
    "        else:\n",
    "            print(chr(val2),end=' ')   \n",
    "    print()\n",
    "            \n",
    "\n"
   ]
  },
  {
   "cell_type": "code",
   "execution_count": 81,
   "id": "c5b3bc88-6b21-4e3c-b813-4043ae956f46",
   "metadata": {},
   "outputs": [
    {
     "name": "stdout",
     "output_type": "stream",
     "text": [
      "1           \n",
      "2 3         \n",
      "4 5 6       \n",
      "7 8 9 10     \n",
      "11 12 13 14 15   \n",
      "16 17 18 19 20 21 \n",
      "\n"
     ]
    },
    {
     "name": "stdin",
     "output_type": "stream",
     "text": [
      "n: 6\n"
     ]
    },
    {
     "name": "stdout",
     "output_type": "stream",
     "text": [
      "A           \n",
      "B C         \n",
      "D E F       \n",
      "G H I J     \n",
      "K L M N O   \n",
      "P Q R S T U \n"
     ]
    }
   ],
   "source": [
    "n=6\n",
    "val=1\n",
    "for i in range(n):\n",
    "    for j in range(n):\n",
    "        if i>=j:\n",
    "            print(val,end=' ')\n",
    "            val+=1\n",
    "        else:\n",
    "            print(' ',end=' ')\n",
    "    print()     \n",
    "\n",
    "print()\n",
    "n=6\n",
    "val=ord('A')\n",
    "for i in range(n):\n",
    "    for j in range(n):\n",
    "        if i>=j:\n",
    "            print(chr(val),end=' ')\n",
    "            val+=1\n",
    "        else:\n",
    "            print(' ',end=' ')\n",
    "    print()  \n",
    "      "
   ]
  },
  {
   "cell_type": "code",
   "execution_count": 82,
   "id": "bfa7af94-2c29-4719-893e-fdd9807a1643",
   "metadata": {},
   "outputs": [
    {
     "name": "stdout",
     "output_type": "stream",
     "text": [
      "* \n",
      "1 1 \n",
      "* * * \n",
      "2 2 2 2 \n",
      "* * * * * \n",
      "3 3 3 3 3 3 \n"
     ]
    }
   ],
   "source": [
    "n=6\n",
    "val=1\n",
    "for i in range(1,n+1):\n",
    "    for j in range(i):\n",
    "        if i>=j:\n",
    "            if i%2==0:\n",
    "                print(val,end=' ')        \n",
    "            else:\n",
    "                print('*',end=' ')          \n",
    "    if i%2==0:\n",
    "        val+=1\n",
    "    print() "
   ]
  },
  {
   "cell_type": "code",
   "execution_count": 83,
   "id": "9edf1165-3dcd-49c1-ba86-aa6dcb787bb8",
   "metadata": {},
   "outputs": [
    {
     "name": "stdout",
     "output_type": "stream",
     "text": [
      "1         \n",
      "1 2       \n",
      "1 2 3     \n",
      "1 2 3 4   \n",
      "1 2 3 4 5 \n",
      "\n",
      "1         \n",
      "2 2       \n",
      "3 3 3     \n",
      "4 4 4 4   \n",
      "5 5 5 5 5 \n"
     ]
    }
   ],
   "source": [
    "n=5\n",
    "\n",
    "for i in range(n):\n",
    "    val=1\n",
    "    for j in range(n):\n",
    "        if i>=j:\n",
    "            print(val,end=' ')\n",
    "            val+=1\n",
    "        else:\n",
    "            print(' ',end=' ')\n",
    "    print()\n",
    "\n",
    "\n",
    "print()\n",
    "val=1\n",
    "for i in range(n):\n",
    "    for j in range(n):\n",
    "        if i>=j:\n",
    "            print(val,end=' ')\n",
    "            \n",
    "        else:\n",
    "            print(' ',end=' ')\n",
    "    val+=1\n",
    "    print()"
   ]
  },
  {
   "cell_type": "code",
   "execution_count": 84,
   "id": "e737906f-cb6a-467d-a26f-2277654c4b30",
   "metadata": {},
   "outputs": [
    {
     "name": "stdout",
     "output_type": "stream",
     "text": [
      "1       1 \n",
      "  2   2   \n",
      "    3     \n",
      "  4   4   \n",
      "5       5 \n"
     ]
    }
   ],
   "source": [
    "val=1\n",
    "val2=1\n",
    "for i in range(n):    \n",
    "    for j in range(n):\n",
    "        if i==j or i+j==n-1:\n",
    "            print(val,end=' ')\n",
    "\n",
    "        else:\n",
    "            print(' ',end=' ')\n",
    "    val+=1\n",
    "    val2+=1\n",
    "    print()"
   ]
  },
  {
   "cell_type": "code",
   "execution_count": 85,
   "id": "2bf954f8-611b-48d7-9e6b-967f8b26ca9f",
   "metadata": {},
   "outputs": [
    {
     "name": "stdout",
     "output_type": "stream",
     "text": [
      "     *     \n",
      "    ***    \n",
      "   *****   \n",
      "  *******  \n",
      " ********* \n",
      "***********\n",
      "\n",
      "***********\n",
      " ********* \n",
      "  *******  \n",
      "   *****   \n",
      "    ***    \n",
      "     *     \n"
     ]
    }
   ],
   "source": [
    "n=6\n",
    "mid = n-1\n",
    "for i in range(n):\n",
    "    for j in range(2*n-1):\n",
    "        if j >= mid-i and j <= mid+i:    # Using midpoint\n",
    "                print(\"*\", end=\"\")\n",
    "        else:\n",
    "                print(\" \", end=\"\")\n",
    "    print()\n",
    "\n",
    "\n",
    "print()\n",
    "mid = n-1           # mid = 4\n",
    "for i in range(n-1, -1, -1):  # i goes from 4,3,2,1,0\n",
    "    for j in range(2*n-1):     # j goes from 0 to 8\n",
    "         if j >= mid-i and j <= mid+i:\n",
    "                print(\"*\", end=\"\")\n",
    "         else:\n",
    "                print(\" \", end=\"\")\n",
    "    print()\n",
    "        "
   ]
  },
  {
   "cell_type": "code",
   "execution_count": 86,
   "id": "8700fef8-c4dc-4081-845d-94c11a283b21",
   "metadata": {},
   "outputs": [
    {
     "name": "stdout",
     "output_type": "stream",
     "text": [
      "          1           \n",
      "        2 3 4         \n",
      "      5 1 2 3 4       \n",
      "    5 1 2 3 4 5 1     \n",
      "  2 3 4 5 1 2 3 4 5   \n",
      "1 2 3 4 5 1 2 3 4 5 1 \n",
      "  9 8 7 6 5 4 3 2 1   \n",
      "    5 4 3 2 1 5 4     \n",
      "      3 2 1 5 4       \n",
      "        3 2 1         \n",
      "          5           \n",
      "                      \n"
     ]
    }
   ],
   "source": [
    "n=6\n",
    "mid = n-1\n",
    "val=1\n",
    "for i in range(n):\n",
    "    for j in range(2*n-1):\n",
    "        if j >= mid-i and j <= mid+i:    # Using midpoint\n",
    "            print(val,end=' ')    \n",
    "            val+=1\n",
    "            if val>5:\n",
    "                val=1\n",
    "        else:\n",
    "                print(\" \", end=\" \")\n",
    "    print()\n",
    "\n",
    "mid = n-1           # mid = 4\n",
    "val=9\n",
    "for i in range(n-1, -1, -1):  # i goes from 4,3,2,1,0\n",
    "    for j in range(2*n-1):     # j goes from 0 to 8\n",
    "         if j > mid-i and j < mid+i:\n",
    "            print(val, end=\" \")\n",
    "            val-=1\n",
    "            if val<1:\n",
    "                val=5\n",
    "         else:\n",
    "                print(\" \", end=\" \")\n",
    "    print()"
   ]
  },
  {
   "cell_type": "code",
   "execution_count": 87,
   "id": "0ea5c6c7-06c4-422c-b26c-b48fc18566c3",
   "metadata": {},
   "outputs": [
    {
     "name": "stdout",
     "output_type": "stream",
     "text": [
      "1 \n",
      "A B \n",
      "1 2 3 \n",
      "A B C D \n",
      "1 2 3 4 5 \n",
      "A B C D E F \n"
     ]
    }
   ],
   "source": [
    "n=6\n",
    "for i in range(n):\n",
    "    val=1\n",
    "    val2=ord('A')\n",
    "    for j in range(n):\n",
    "        if i>=j:\n",
    "            if i%2==0:\n",
    "                print(val,end=' ')\n",
    "                val+=1\n",
    "            else:\n",
    "                print(chr(val2),end=' ')\n",
    "                val2+=1\n",
    "    print()\n",
    "    "
   ]
  },
  {
   "cell_type": "code",
   "execution_count": 88,
   "id": "95196807-7200-4546-8c91-dbcb31378ff1",
   "metadata": {},
   "outputs": [
    {
     "name": "stdout",
     "output_type": "stream",
     "text": [
      "* * * * * \n",
      "*       * \n",
      "*       * \n",
      "*       * \n",
      "* * * * * \n",
      "\n",
      "* * * * * \n",
      "*       * \n",
      "*   *   * \n",
      "*       * \n",
      "* * * * * \n"
     ]
    }
   ],
   "source": [
    "n=5\n",
    "for i in range(n):\n",
    "    for j in range(n):\n",
    "        if i==0 or i==n-1 or j==0 or j==n-1:\n",
    "            print(\"*\",end=' ')\n",
    "        else:\n",
    "            print(' ',end=' ')\n",
    "    print()\n",
    "    \n",
    "print()\n",
    "n=5\n",
    "for i in range(n):\n",
    "    for j in range(n):\n",
    "        if i==0 or i==n-1 or j==0 or j==n-1 or (i+j==n-1 and i==j):\n",
    "            print(\"*\",end=' ')\n",
    "        else:\n",
    "            print(' ',end=' ')\n",
    "    print()"
   ]
  },
  {
   "cell_type": "code",
   "execution_count": 89,
   "id": "12c590f7-f8ea-4ae6-b4d1-3cbe21b086ee",
   "metadata": {},
   "outputs": [
    {
     "name": "stdout",
     "output_type": "stream",
     "text": [
      "*         \n",
      "* *       \n",
      "*   *     \n",
      "*     *   \n",
      "*       * \n",
      "*     *   \n",
      "*   *     \n",
      "* *       \n",
      "*         \n"
     ]
    }
   ],
   "source": [
    "#### n=int(input(\"n:  \"))\n",
    "for i in range(2*n-1):\n",
    "    for j in range(n):\n",
    "        if i==j or j==0 or i+j==2*n-2:\n",
    "            print('*',end=' ')\n",
    "        else:\n",
    "            print(' ',end=' ')\n",
    "    print()\n"
   ]
  },
  {
   "cell_type": "code",
   "execution_count": 91,
   "id": "923c7953-91c9-452e-8e71-9e5938d77ad5",
   "metadata": {},
   "outputs": [
    {
     "name": "stdout",
     "output_type": "stream",
     "text": [
      "          Z \n",
      "        Y Z \n",
      "      X Y Z \n",
      "    W X Y Z \n",
      "  V W X Y Z \n",
      "U V W X Y Z \n"
     ]
    }
   ],
   "source": [
    "n=6\n",
    "\n",
    "for i in range(n):\n",
    "    val=ord(\"Z\")\n",
    "    for j in range(n):\n",
    "        if i+j>=n-1:\n",
    "            print(chr(val-i),end=' ')\n",
    "            val+=1          \n",
    "        else:\n",
    "            print(' ',end=' ')\n",
    "    print()"
   ]
  },
  {
   "cell_type": "code",
   "execution_count": 92,
   "id": "6fd7265a-c4ac-4367-9839-57f287dfae57",
   "metadata": {},
   "outputs": [
    {
     "name": "stdout",
     "output_type": "stream",
     "text": [
      "        *         \n",
      "      * * *       \n",
      "    * * * * *     \n",
      "  * * * * * * *   \n",
      "* * * * * * * * * \n",
      "\n",
      "        1         \n",
      "      2 2 2       \n",
      "    3 3 3 3 3     \n",
      "  4 4 4 4 4 4 4   \n",
      "5 5 5 5 5 5 5 5 5 \n"
     ]
    }
   ],
   "source": [
    "n=5\n",
    "mid=n-1\n",
    "for i in range(n):\n",
    "    for j in range(2*n-1):\n",
    "        if j>=mid-i and j<=mid+i:\n",
    "            print(\"*\",end=' ')\n",
    "        else:\n",
    "            print(\" \",end=' ')\n",
    "    print()\n",
    "\n",
    "print()\n",
    "mid=n-1\n",
    "val=1\n",
    "for i in range(n):\n",
    "    for j in range(2*n-1):\n",
    "        if j>=mid-i and j<=mid+i:\n",
    "            print(val,end=' ')\n",
    "        else:\n",
    "            print(\" \",end=' ')\n",
    "    val+=1\n",
    "    print()\n"
   ]
  },
  {
   "cell_type": "code",
   "execution_count": 93,
   "id": "4121c3d0-ff8d-4829-a0d1-13c35f8fa103",
   "metadata": {},
   "outputs": [
    {
     "name": "stdout",
     "output_type": "stream",
     "text": [
      "1         \n",
      "1 2       \n",
      "1   3     \n",
      "1     4   \n",
      "1 2 3 4 5 \n"
     ]
    }
   ],
   "source": [
    "n=5\n",
    "\n",
    "for i in range(n):\n",
    "    val=1\n",
    "    for j in range(n):\n",
    "        if i==j or j==0 or i==n-1:\n",
    "            print(val,end=' ')\n",
    "            val+=1\n",
    "        else:\n",
    "            print(' ',end=' ')\n",
    "            val+=1\n",
    "    print()"
   ]
  },
  {
   "cell_type": "code",
   "execution_count": 102,
   "id": "669e2125-cfcd-4c15-b4de-17bf4e86ab43",
   "metadata": {},
   "outputs": [
    {
     "name": "stdout",
     "output_type": "stream",
     "text": [
      "* \n",
      "* * \n",
      "* * * \n",
      "* * * * \n",
      "* * * \n",
      "* * \n",
      "* \n",
      "\n",
      "      * \n",
      "    * * \n",
      "  * * * \n",
      "* * * * \n",
      "  * * * \n",
      "    * * \n",
      "      * \n"
     ]
    }
   ],
   "source": [
    "n = 4\n",
    "\n",
    "# Upper part of the pyramid\n",
    "for i in range(n):\n",
    "    for j in range(i + 1):\n",
    "        print(\"*\", end=\" \")\n",
    "    print()\n",
    "\n",
    "# Lower part of the pyramid\n",
    "for i in range(n - 1, 0, -1):\n",
    "    for j in range(i):\n",
    "        print(\"*\", end=\" \")\n",
    "    print()\n",
    "\n",
    "\n",
    "print()\n",
    "n = 4\n",
    "\n",
    "# Upper part of the pyramid\n",
    "for i in range(n):\n",
    "    for j in range(n - i - 1):\n",
    "        print(\" \", end=\" \")  # Print  3 at 1st row then 2  then 1 spaces\n",
    "    for j in range(i + 1):\n",
    "        print(\"*\", end=\" \")  # Print stars\n",
    "    print()\n",
    "\n",
    "# Lower part of the pyramid\n",
    "for i in range(n - 1, 0, -1):\n",
    "    for j in range(n - i):\n",
    "        print(\" \", end=\" \")  # Print spaces\n",
    "    for j in range(i):\n",
    "        print(\"*\", end=\" \")  # Print stars\n",
    "    print()\n",
    "\n",
    "#       *      (3 spaces, 1 star)\n",
    "#     * *      (2 spaces, 2 stars)\n",
    "#   * * *      (1 space,  3 stars)\n",
    "# * * * *      (0 spaces, 4 stars)\n",
    "#   * * *      (1 space,  3 stars)\n",
    "#     * *      (2 spaces, 2 stars)\n",
    "#       *      (3 spaces, 1 star)"
   ]
  },
  {
   "cell_type": "code",
   "execution_count": 108,
   "id": "2a3ea8f2-30f2-44f6-82c1-ef48ebd6371e",
   "metadata": {},
   "outputs": [
    {
     "name": "stdout",
     "output_type": "stream",
     "text": [
      "1           \n",
      "1 3         \n",
      "1 3 5       \n",
      "1 3 5 7     \n",
      "1 3 5 7 9   \n",
      "1 3 5 7 9 11 \n",
      "\n",
      "2           \n",
      "2 4         \n",
      "2 4 6       \n",
      "2 4 6 8     \n",
      "2 4 6 8 10   \n",
      "2 4 6 8 10 12 \n"
     ]
    }
   ],
   "source": [
    "n=6\n",
    "for i in range(n):\n",
    "    val=1\n",
    "    for j in range(n):\n",
    "        if i>=j:\n",
    "            print(val,end=' ')\n",
    "            val+=2\n",
    "        else:\n",
    "            print(' ',end=' ')\n",
    "    print()\n",
    "            \n",
    "print()\n",
    "n=6\n",
    "\n",
    "for i in range(n):\n",
    "    val=2\n",
    "    for j in range(n):\n",
    "        if i>=j:\n",
    "            print(val,end=' ')\n",
    "            val+=2\n",
    "        else:\n",
    "            print(' ',end=' ')\n",
    "    print()"
   ]
  },
  {
   "cell_type": "code",
   "execution_count": 122,
   "id": "bb9bca59-b39d-4d3c-ae68-d70761669971",
   "metadata": {},
   "outputs": [
    {
     "name": "stdout",
     "output_type": "stream",
     "text": [
      "&      \n",
      "& &     \n",
      "& * &    \n",
      "& * * &   \n",
      "& * * * &  \n",
      "& & & & & & \n"
     ]
    }
   ],
   "source": [
    "for i in range(n):\n",
    "    val=1\n",
    "    for j in range(n):\n",
    "        if i==j or j==0 or i==n-1:\n",
    "            print('&',end=' ')\n",
    "        elif j<i:\n",
    "            print('*',end=' ')\n",
    "        else:\n",
    "            print(' ',end='')\n",
    "    print()"
   ]
  },
  {
   "cell_type": "code",
   "execution_count": 125,
   "id": "083ead84-0d79-4f5e-b64f-086658fb0a4c",
   "metadata": {},
   "outputs": [
    {
     "name": "stdout",
     "output_type": "stream",
     "text": [
      "* * * * * \n",
      "*   $   * \n",
      "*   $   * \n",
      "*   $   * \n",
      "* * * * * \n"
     ]
    }
   ],
   "source": [
    "n=5\n",
    "for i in range(n):\n",
    "    for j in range(n):\n",
    "        if i==0 or i==n-1 or j==0 or j==n-1:\n",
    "            print(\"*\",end=' ')\n",
    "        elif j==n-3:\n",
    "            print('$',end=' ')\n",
    "        else:\n",
    "            print(' ',end=' ')\n",
    "    print()\n",
    "    "
   ]
  },
  {
   "cell_type": "code",
   "execution_count": null,
   "id": "3b994bca-8366-47e4-9995-53ba405ae5e7",
   "metadata": {},
   "outputs": [],
   "source": []
  }
 ],
 "metadata": {
  "kernelspec": {
   "display_name": "Python 3 (ipykernel)",
   "language": "python",
   "name": "python3"
  },
  "language_info": {
   "codemirror_mode": {
    "name": "ipython",
    "version": 3
   },
   "file_extension": ".py",
   "mimetype": "text/x-python",
   "name": "python",
   "nbconvert_exporter": "python",
   "pygments_lexer": "ipython3",
   "version": "3.12.4"
  }
 },
 "nbformat": 4,
 "nbformat_minor": 5
}
