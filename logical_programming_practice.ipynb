{
 "cells": [
  {
   "cell_type": "markdown",
   "id": "f2c02c98-1cae-454f-bb9c-a4876addbd12",
   "metadata": {},
   "source": [
    "*SUMMATION OF N VALUE* \n",
    "    "
   ]
  },
  {
   "cell_type": "code",
   "execution_count": null,
   "id": "5dc24217-b014-4e3f-8bd4-0dad57d258c0",
   "metadata": {},
   "outputs": [],
   "source": [
    "#Write a program to calculate the sum of the first n natural numbers.\n",
    "n=5\n",
    "summ=0\n",
    "for i in range(1,n+1):\n",
    "    summ+=i\n",
    "print(summ)\n"
   ]
  },
  {
   "cell_type": "code",
   "execution_count": 7,
   "id": "36d893fc-40fb-4424-918b-fa44076127d1",
   "metadata": {},
   "outputs": [
    {
     "name": "stdout",
     "output_type": "stream",
     "text": [
      "sum of square of n  55\n"
     ]
    }
   ],
   "source": [
    "#Modify the program to find the sum of squares of the first n natural numbers.\n",
    "n=5\n",
    "a=sum([i**2 for i in range(1,n+1)])\n",
    "print(\"sum of square of n \",a)"
   ]
  },
  {
   "cell_type": "code",
   "execution_count": 4,
   "id": "70c25759-a1ad-4b06-baa6-e0fa70c57119",
   "metadata": {},
   "outputs": [
    {
     "name": "stdin",
     "output_type": "stream",
     "text": [
      "n: 2\n",
      "n: 1\n",
      "n: 5\n",
      "n: 2\n",
      "n: 0\n"
     ]
    },
    {
     "name": "stdout",
     "output_type": "stream",
     "text": [
      "sum 10\n"
     ]
    }
   ],
   "source": [
    "#Create a program to sum all user-provided numbers until the user enters 0\n",
    "sum=0\n",
    "while True:\n",
    "    n=int(input(\"n:\"))\n",
    "    if n==0:\n",
    "        break\n",
    "    sum+=n\n",
    "print(\"sum\",sum)"
   ]
  },
  {
   "cell_type": "code",
   "execution_count": null,
   "id": "204bed49-d74d-458e-adbf-1f3dd4fd61f9",
   "metadata": {},
   "outputs": [],
   "source": []
  },
  {
   "cell_type": "code",
   "execution_count": null,
   "id": "bc5773ff-e08a-4c70-9024-e94dd7e0030a",
   "metadata": {},
   "outputs": [],
   "source": []
  },
  {
   "cell_type": "code",
   "execution_count": null,
   "id": "d1d0dbd4-b152-434e-a8fa-fd916718cc10",
   "metadata": {},
   "outputs": [],
   "source": []
  },
  {
   "cell_type": "markdown",
   "id": "c3aa3aec-6935-4061-a46c-6892af953e32",
   "metadata": {},
   "source": [
    "*FACTORIAL*"
   ]
  },
  {
   "cell_type": "code",
   "execution_count": 5,
   "id": "0efdfbbe-9bdb-4a9d-9da5-9dde85a636c3",
   "metadata": {},
   "outputs": [
    {
     "name": "stdout",
     "output_type": "stream",
     "text": [
      "720\n"
     ]
    }
   ],
   "source": [
    "#Write a program to find the factorial of a given number n using a loop\n",
    "n=6\n",
    "f=1\n",
    "for i in range(1,n+1):\n",
    "    f=f*i\n",
    "print(f)"
   ]
  },
  {
   "cell_type": "code",
   "execution_count": 68,
   "id": "6542a4dd-a758-4a71-9102-aeb114e1d905",
   "metadata": {},
   "outputs": [
    {
     "name": "stdin",
     "output_type": "stream",
     "text": [
      "n: 145\n"
     ]
    },
    {
     "name": "stdout",
     "output_type": "stream",
     "text": [
      "804792605747199194484902925779806277109997439007500616344745281047115412373646521410850481879839649227439298230298915019813108221651663659572441609408556917739149315905992811411866635786075524601835815642793302504243200000000000000000000000000000000000\n"
     ]
    },
    {
     "name": "stdin",
     "output_type": "stream",
     "text": [
      "n: 1\n"
     ]
    },
    {
     "name": "stdout",
     "output_type": "stream",
     "text": [
      "1\n"
     ]
    },
    {
     "name": "stdin",
     "output_type": "stream",
     "text": [
      "n: 1\n"
     ]
    },
    {
     "name": "stdout",
     "output_type": "stream",
     "text": [
      "1\n"
     ]
    },
    {
     "name": "stdin",
     "output_type": "stream",
     "text": [
      "n: -4\n"
     ]
    },
    {
     "name": "stdout",
     "output_type": "stream",
     "text": [
      "please type a +ve no\n"
     ]
    }
   ],
   "source": [
    "#Extend the program to handle input validation for negative numbers by displaying an error message\n",
    "n=1\n",
    "while n>0:\n",
    "    n=int(input(\"n:\"))\n",
    "    if 0<n<=999:\n",
    "        f=1\n",
    "        for i in range(1,n+1):\n",
    "            f=f*i\n",
    "        print(f)\n",
    "    else:\n",
    "        print(\"please type a +ve no\")"
   ]
  },
  {
   "cell_type": "code",
   "execution_count": 10,
   "id": "3bbe4a12-0bd4-46ae-a987-ea24f24a051b",
   "metadata": {},
   "outputs": [
    {
     "name": "stdin",
     "output_type": "stream",
     "text": [
      "n: 3\n"
     ]
    },
    {
     "name": "stdout",
     "output_type": "stream",
     "text": [
      "the factorial is:  6\n"
     ]
    }
   ],
   "source": [
    "#Implement a recursive function to find the factorial of a number.\n",
    "def fact(n):\n",
    "    if n==1 or n==0:\n",
    "        return 1\n",
    "    else:\n",
    "        return n*(fact(n-1))\n",
    "        \n",
    "n=int(input(\"n:\"))\n",
    "if n<0:\n",
    "    print(\"choose +ve no\")\n",
    "else:\n",
    "    print(\"the factorial is: \",fact(n))"
   ]
  },
  {
   "cell_type": "code",
   "execution_count": null,
   "id": "173e3d92-e86c-4146-a528-817274ff76e9",
   "metadata": {},
   "outputs": [],
   "source": []
  },
  {
   "cell_type": "code",
   "execution_count": null,
   "id": "4837d3b8-1412-4adf-b3b3-b8ca858e76f6",
   "metadata": {},
   "outputs": [],
   "source": []
  },
  {
   "cell_type": "code",
   "execution_count": null,
   "id": "a1e98c90-a56f-4c98-a4e9-6333f4153ca2",
   "metadata": {},
   "outputs": [],
   "source": []
  },
  {
   "cell_type": "markdown",
   "id": "cca1dc98-71bc-4818-a730-3d9e6a0ba334",
   "metadata": {},
   "source": [
    "*SUM OF EVEN AND ODD NUMBERS*"
   ]
  },
  {
   "cell_type": "code",
   "execution_count": null,
   "id": "5fab798e-e114-4dc8-a60d-b1e962c506fa",
   "metadata": {},
   "outputs": [],
   "source": [
    "#sum of even no\n",
    "n=10\n",
    "summ=0\n",
    "for i in range(1,n+1):\n",
    "    if i%2==0:\n",
    "        summ+=i\n",
    "print(summ)  # till 11, we can have any no of even no\n",
    "\n",
    "#method 1\n",
    "n1=9\n",
    "print(sum(range(0,n1+1,2)))\n",
    "\n",
    "#method 2\n",
    "n2=7\n",
    "print(sum([i for i in range(0,n2+1,2)]))\n"
   ]
  },
  {
   "cell_type": "code",
   "execution_count": 17,
   "id": "41bfc23a-56ea-49d0-af06-b9f957730a65",
   "metadata": {},
   "outputs": [
    {
     "name": "stdout",
     "output_type": "stream",
     "text": [
      "1\n",
      "3\n",
      "5\n",
      "7\n",
      "9\n",
      "11\n",
      "36\n",
      "25\n",
      "16\n"
     ]
    }
   ],
   "source": [
    "#sum of odd no\n",
    "n=11\n",
    "summ=0\n",
    "for i in range(1,n+1): \n",
    "    if i%2!=0:\n",
    "        summ+=i\n",
    "print(summ)  # till 11, we can have any no of odd no\n",
    "\n",
    "#method 1\n",
    "n1=9\n",
    "print(sum(range(1,n1+1,2)))\n",
    "\n",
    "#method 2\n",
    "n2=7\n",
    "print(sum([i for i in range(1,n2+1,2)]))"
   ]
  },
  {
   "cell_type": "code",
   "execution_count": 16,
   "id": "eb14e778-5139-4a9e-baaa-0b463396692b",
   "metadata": {},
   "outputs": [
    {
     "name": "stdout",
     "output_type": "stream",
     "text": [
      "sum of 4 even no: 20\n",
      "sum of 4 odd no: 16\n"
     ]
    }
   ],
   "source": [
    "#Create a program that reads n numbers from the user and prints the sum of \n",
    "#all even numbers and odd entered.\n",
    "n=4\n",
    "a=(sum([i for i in range(2,n*2+1,2)]))\n",
    "print(\"sum of 4 even no:\",a) #2+4+6+8   we should 4 even no\n",
    "\n",
    "\n",
    "n=4\n",
    "b=(sum([i for i in range(1,n*2+1,2)]))\n",
    "print(\"sum of 4 odd no:\",b) #1+3+5+7\n",
    "\n"
   ]
  },
  {
   "cell_type": "code",
   "execution_count": 19,
   "id": "4b58b6c6-ccd9-4fe0-aee2-549a571c6632",
   "metadata": {},
   "outputs": [
    {
     "name": "stdout",
     "output_type": "stream",
     "text": [
      "even numbers in given value 12\n",
      "odd numbers in given value 16\n"
     ]
    }
   ],
   "source": [
    "#Write a program to find the sum of even digits in a given number\n",
    "n=1234567\n",
    "even=0\n",
    "odd=0\n",
    "l=str(n)\n",
    "for i in l:\n",
    "    if int(i)%2==0:\n",
    "        even+=int(i)\n",
    "    else:\n",
    "        odd+=int(i)\n",
    "print(\"even numbers in given value\",even)\n",
    "print(\"odd numbers in given value\",odd)"
   ]
  },
  {
   "cell_type": "code",
   "execution_count": null,
   "id": "5a67ddf5-9cc1-46bc-b199-79f07a02f409",
   "metadata": {},
   "outputs": [],
   "source": []
  },
  {
   "cell_type": "code",
   "execution_count": null,
   "id": "c1fce49b-e7ca-444d-befb-c15dad618f09",
   "metadata": {},
   "outputs": [],
   "source": []
  },
  {
   "cell_type": "code",
   "execution_count": null,
   "id": "3923edce-c9ad-476e-a8dc-2c9046674238",
   "metadata": {},
   "outputs": [],
   "source": []
  },
  {
   "cell_type": "markdown",
   "id": "ad1b8eb5-0136-4ff2-b132-126241fbafb3",
   "metadata": {},
   "source": [
    "*MULTIPLES OF A NUMBER*"
   ]
  },
  {
   "cell_type": "code",
   "execution_count": 23,
   "id": "90ffc826-5bbe-42f6-a7c2-7e5b18a9d4cf",
   "metadata": {},
   "outputs": [
    {
     "name": "stdout",
     "output_type": "stream",
     "text": [
      "15 | 30 | 45 | 60 | 75 | 90 | 105 | 120 | 135 | 150 | 165 | 180 | 195 | \n",
      "sum is: 1365\n"
     ]
    }
   ],
   "source": [
    "#give me a list and sum of number which are multiples of 3 and 5\n",
    "n=200\n",
    "sum=0\n",
    "for i in range(1,n+1):\n",
    "    if i%3==0 and i%5==0:\n",
    "        print(i,end=' | ')\n",
    "        sum+=i\n",
    "print()\n",
    "print(\"sum is:\",sum)"
   ]
  },
  {
   "cell_type": "code",
   "execution_count": 22,
   "id": "aa008046-e4cc-4bc4-b3ce-3eb7871dca2e",
   "metadata": {},
   "outputs": [
    {
     "name": "stdout",
     "output_type": "stream",
     "text": [
      "3 | 5 | 6 | 9 | 10 | 12 | 15 | 18 | 20 | \n"
     ]
    }
   ],
   "source": [
    "#Modify the program to display only the numbers that are multiples of either 3 or 5, but not both\n",
    "n=20\n",
    "for i in range(1,n+1):\n",
    "    if i%3==0 or i%5==0:\n",
    "        print(i,end=' | ')\n",
    "print()\n"
   ]
  },
  {
   "cell_type": "code",
   "execution_count": 26,
   "id": "e705c8f5-404f-4004-9803-f803adf7a853",
   "metadata": {},
   "outputs": [
    {
     "name": "stdout",
     "output_type": "stream",
     "text": [
      "15\n",
      "\n",
      "count is: 1\n"
     ]
    }
   ],
   "source": [
    "#Create a program that counts how many numbers up to 𝑛, are multiples of both 3 and 5 and prints their sum\n",
    "#give me a list and sum of number which are multiples of 3 and 5\n",
    "n=20\n",
    "count=0\n",
    "for i in range(1,n+1):\n",
    "    if i%3==0 and i%5==0:\n",
    "        print(i)\n",
    "        count+=1\n",
    "print()\n",
    "print(\"count is:\",count)"
   ]
  },
  {
   "cell_type": "code",
   "execution_count": 31,
   "id": "f010aa3a-c253-41e9-b3bf-e8a0b21c9ba3",
   "metadata": {},
   "outputs": [
    {
     "name": "stdin",
     "output_type": "stream",
     "text": [
      " 1\n",
      " 2\n",
      " 3\n",
      " 4\n",
      " 5\n",
      " 6\n",
      " 15\n"
     ]
    },
    {
     "name": "stdout",
     "output_type": "stream",
     "text": [
      "list= [1, 2, 3, 4, 5, 6, 15]\n",
      "15\n",
      "sum is 15\n"
     ]
    }
   ],
   "source": [
    "#Write a program that takes a user-provided list of numbers and finds the sum \n",
    "#of numbers that are multiples of 3 and 5\n",
    "n=7\n",
    "l=[int(input()) for i in range(1,n+1)]\n",
    "print(\"list=\",l)\n",
    "sum=0\n",
    "for i in l:\n",
    "    if i%3==0 and i%5==0:\n",
    "        sum+=i\n",
    "        print(i,end=' | ')\n",
    "print(\"sum is\", sum)"
   ]
  },
  {
   "cell_type": "code",
   "execution_count": 33,
   "id": "0cec611a-07ce-4d19-b146-b8023e0f8e7e",
   "metadata": {},
   "outputs": [
    {
     "name": "stdin",
     "output_type": "stream",
     "text": [
      "start 4\n",
      "end 9\n",
      "values 1\n",
      "values 15\n",
      "values 30\n",
      "values 75\n",
      "values 9\n"
     ]
    },
    {
     "name": "stdout",
     "output_type": "stream",
     "text": [
      "list= [1, 15, 30, 75, 9]\n",
      "15\n",
      "30\n",
      "75\n",
      "sum is 120\n"
     ]
    }
   ],
   "source": [
    "#Extend the program to ask for a range (start and end values) from the user and\n",
    "#print the list of multiples of 3 and 5 within that range, along with their sum\n",
    "start=int(input(\"start\"))\n",
    "end=int(input(\"end\"))\n",
    "l=[int(input(\"values\")) for i in range(start,end)]\n",
    "print(\"list=\",l)\n",
    "sum=0\n",
    "for i in l:\n",
    "    if i%3==0 and i%5==0:\n",
    "        sum+=i\n",
    "        print(i,end=' | ')\n",
    "print(\"sum is\", sum)"
   ]
  },
  {
   "cell_type": "code",
   "execution_count": null,
   "id": "e5ee2e43-5307-4f00-bcbc-20997122082f",
   "metadata": {},
   "outputs": [],
   "source": []
  },
  {
   "cell_type": "code",
   "execution_count": null,
   "id": "32a5e734-7262-45f5-8a58-3c6d35b74024",
   "metadata": {},
   "outputs": [],
   "source": []
  },
  {
   "cell_type": "code",
   "execution_count": null,
   "id": "545e0af0-0493-4e55-9157-d225fd719cef",
   "metadata": {},
   "outputs": [],
   "source": []
  },
  {
   "cell_type": "markdown",
   "id": "81a9d2be-80e5-4722-87d3-cf7c1b5219d3",
   "metadata": {},
   "source": [
    "FACTORS"
   ]
  },
  {
   "cell_type": "code",
   "execution_count": 27,
   "id": "3cfc6872-aa5b-4cbf-ae3e-0879c035f780",
   "metadata": {},
   "outputs": [
    {
     "name": "stdout",
     "output_type": "stream",
     "text": [
      "1 | 5 | 7 | 35 | \n",
      "count : 4\n"
     ]
    }
   ],
   "source": [
    "#Write a program that takes an integer n as input and prints all the factors\n",
    "#of 𝑛 and counts how many factors there are.\n",
    "n=35\n",
    "c=0\n",
    "for i in range(1,n+1):\n",
    "    if n%i==0:\n",
    "        c+=1\n",
    "        print(i,end=' | ')\n",
    "print()\n",
    "print(\"count :\",c)"
   ]
  },
  {
   "cell_type": "code",
   "execution_count": 19,
   "id": "f4939d03-5a54-4a31-a4ef-015438088484",
   "metadata": {},
   "outputs": [
    {
     "name": "stdout",
     "output_type": "stream",
     "text": [
      "1 | 5 | 7 | 35 | \n",
      "count : 4\n",
      "sum : 48\n"
     ]
    }
   ],
   "source": [
    "#Create a program that calculates the sum of all factors of a given number \n",
    "#n and displays the sum and the count of factors.\n",
    "n=35\n",
    "c=0\n",
    "sum=0\n",
    "for i in range(1,n+1):\n",
    "    if n%i==0:\n",
    "        c+=1\n",
    "        print(i,end=' | ')\n",
    "        sum+=i\n",
    "print()\n",
    "print(\"count :\",c)\n",
    "print(\"sum :\",sum)"
   ]
  },
  {
   "cell_type": "code",
   "execution_count": 21,
   "id": "f6a6433c-0c95-4303-9023-7a488bc266a2",
   "metadata": {},
   "outputs": [
    {
     "name": "stdout",
     "output_type": "stream",
     "text": [
      "1 | 5 | 7 | 35 | \n",
      "count : 4\n",
      "product : 1225\n"
     ]
    }
   ],
   "source": [
    "#Write a program to find the product of all factors of \n",
    "#n and print it along with the total number of factors.\n",
    "n=35\n",
    "c=0\n",
    "prod=1\n",
    "for i in range(1,n+1):\n",
    "    if n%i==0:\n",
    "        c+=1\n",
    "        print(i,end=' | ')\n",
    "        prod*=i\n",
    "print()\n",
    "print(\"count :\",c)\n",
    "print(\"product :\",prod)"
   ]
  },
  {
   "cell_type": "code",
   "execution_count": 17,
   "id": "4b6fe984-3330-4815-a860-c42d8829e66f",
   "metadata": {},
   "outputs": [
    {
     "name": "stdout",
     "output_type": "stream",
     "text": [
      "factors are: 5\n",
      "factors are: 7\n",
      "factors are: 35\n",
      "prime_factors are [5, 7]\n"
     ]
    }
   ],
   "source": [
    "#Modify the program to display only the prime factors of n and count them\n",
    "n=35\n",
    "c=0\n",
    "prime_factors=[]\n",
    "for i in range(2,n+1):\n",
    "    if n%i==0:\n",
    "        prime=True\n",
    "        print(\"factors are:\",i)\n",
    "        for j in range(2,i):\n",
    "            if i%j==0:\n",
    "                prime=False\n",
    "                break\n",
    "        if prime :\n",
    "            prime_factors.append(i)\n",
    "print(\"prime_factors are\",prime_factors)\n",
    "\n"
   ]
  },
  {
   "cell_type": "code",
   "execution_count": null,
   "id": "4b980453-6795-4458-96b1-2d9f79957042",
   "metadata": {},
   "outputs": [],
   "source": []
  },
  {
   "cell_type": "code",
   "execution_count": null,
   "id": "e5369fc8-cba2-42e0-bd70-ada5e329d43c",
   "metadata": {},
   "outputs": [],
   "source": []
  },
  {
   "cell_type": "markdown",
   "id": "568c2571-ea37-44d0-a47b-d1c8e405b7c4",
   "metadata": {},
   "source": [
    "FIBONACCI SERIES"
   ]
  },
  {
   "cell_type": "code",
   "execution_count": 41,
   "id": "663776b3-761c-4bb5-96e0-e266d1c17ab7",
   "metadata": {},
   "outputs": [
    {
     "name": "stdin",
     "output_type": "stream",
     "text": [
      " 5\n"
     ]
    },
    {
     "name": "stdout",
     "output_type": "stream",
     "text": [
      "0 1 1 2 3 "
     ]
    }
   ],
   "source": [
    "#Basic fibonacci:\n",
    "n=int(input())\n",
    "a,b=0,1\n",
    "count=0\n",
    "while count<n:\n",
    "    print(f\"{a}\",end=' ')\n",
    "    a,b=b,a+b\n",
    "    count+=1"
   ]
  },
  {
   "cell_type": "code",
   "execution_count": 49,
   "id": "8cb88ad1-85f2-4819-8c34-24ee6b8aa19f",
   "metadata": {},
   "outputs": [
    {
     "name": "stdin",
     "output_type": "stream",
     "text": [
      " 100\n"
     ]
    },
    {
     "name": "stdout",
     "output_type": "stream",
     "text": [
      "0 1 1 2 3 5 8 13 21 34 55 89 count:  12\n"
     ]
    }
   ],
   "source": [
    "#Fibonacci Series Up to a Limit\n",
    "n=int(input())\n",
    "a,b=0,1\n",
    "count=0\n",
    "while a<n:\n",
    "        print(f\"{a}\",end=' ')\n",
    "        a,b=b,a+b\n",
    "        count+=1\n",
    "print()\n",
    "print(\"count: \",count)"
   ]
  },
  {
   "cell_type": "code",
   "execution_count": 63,
   "id": "be05a112-a87d-44fa-89df-c1bcddc5a01d",
   "metadata": {},
   "outputs": [
    {
     "name": "stdin",
     "output_type": "stream",
     "text": [
      "no of fibo series:   5\n",
      "no to find in fibo series:   1\n"
     ]
    },
    {
     "name": "stdout",
     "output_type": "stream",
     "text": [
      "0 1 1 2 3 \n",
      "1 is a fibo number\n",
      "\n"
     ]
    }
   ],
   "source": [
    "#Check Fibonacci Number\n",
    "n=int(input(\"no of fibo series:  \"))\n",
    "c=int(input(\"no to find in fibo series:  \"))\n",
    "l=[]\n",
    "a,b=0,1\n",
    "count=0\n",
    "while count<n:\n",
    "    print(f\"{a}\",end=' ')\n",
    "    l.append(a)\n",
    "    a,b=b,a+b\n",
    "    count+=1\n",
    "print()\n",
    "if c in l:\n",
    "    print(f\"{c} is a fibo number\")\n",
    "else:\n",
    "    print(f\"{c} is not a fibo number\")\n",
    "print()\n"
   ]
  },
  {
   "cell_type": "code",
   "execution_count": null,
   "id": "bee584ca-70a5-43ec-a07a-3c489288b0ba",
   "metadata": {},
   "outputs": [],
   "source": []
  },
  {
   "cell_type": "code",
   "execution_count": null,
   "id": "b0f849bf-7271-4007-bfd7-9fdba74a513c",
   "metadata": {},
   "outputs": [],
   "source": []
  },
  {
   "cell_type": "code",
   "execution_count": null,
   "id": "3c02f07e-d12e-4393-b07a-9d2b8c44f918",
   "metadata": {},
   "outputs": [],
   "source": []
  },
  {
   "cell_type": "code",
   "execution_count": null,
   "id": "0413c66d-8f78-4770-8cc0-bf4639227b16",
   "metadata": {},
   "outputs": [],
   "source": []
  },
  {
   "cell_type": "markdown",
   "id": "99b15cbb-6e6a-4608-9266-4d6ef74197ab",
   "metadata": {},
   "source": [
    "PRIME NUMBERS"
   ]
  },
  {
   "cell_type": "code",
   "execution_count": 10,
   "id": "469a1114-36ca-4dd0-b026-cd529b707d9d",
   "metadata": {},
   "outputs": [
    {
     "name": "stdout",
     "output_type": "stream",
     "text": [
      "prime no\n"
     ]
    }
   ],
   "source": [
    "#heck if a Number is a Prime NUMBER\n",
    "n=23\n",
    "c=0\n",
    "for i in range(2,n//2+1):\n",
    "    if n%i==0:\n",
    "        c+=1\n",
    "        break\n",
    "if c==0:\n",
    "    print(\"prime no\")\n",
    "else:\n",
    "    print(\"not a prime \")"
   ]
  },
  {
   "cell_type": "code",
   "execution_count": 26,
   "id": "ce40f497-af50-4cbb-b048-670a190db30e",
   "metadata": {},
   "outputs": [
    {
     "name": "stdin",
     "output_type": "stream",
     "text": [
      " 100\n"
     ]
    },
    {
     "name": "stdout",
     "output_type": "stream",
     "text": [
      "2 3 5 7 11 13 17 19 23 29 31 37 41 43 47 53 59 61 67 71 73 79 83 89 97 \n",
      "count 25\n"
     ]
    }
   ],
   "source": [
    "#checking prime number till n number  ( till 20 number)\n",
    "n=int(input()) #till 20 how many numbers are prime\n",
    "COUNT=0\n",
    "for i in range(2,n+1):\n",
    "    c=0\n",
    "    for j in range(2,i//2+1):\n",
    "        if i%j==0:\n",
    "            c+=1\n",
    "            break\n",
    "    if c==0:           \n",
    "        print(i,end=\" \")\n",
    "        COUNT+=1\n",
    "print()\n",
    "print(\"count\",COUNT)\n",
    "\n"
   ]
  },
  {
   "cell_type": "code",
   "execution_count": 31,
   "id": "61cdf869-8bea-405a-97e1-258e2884e973",
   "metadata": {},
   "outputs": [
    {
     "name": "stdout",
     "output_type": "stream",
     "text": [
      "3 5 7 11 13 17 19 \n",
      "gap between the numbers [1, 2, 2, 4, 2, 4, 2]\n"
     ]
    }
   ],
   "source": [
    "#Write a program that finds and prints the difference between consecutive\n",
    "#prime numbers up to n and displays the largest gap found.\n",
    "n=20 \n",
    "gap=[2]\n",
    "listt=[]\n",
    "list\n",
    "for i in range(3,n+1):\n",
    "    c=0\n",
    "    for j in range(2,i//2+1):\n",
    "        if i%j==0:\n",
    "            c+=1\n",
    "            break\n",
    "    if c==0:           \n",
    "        print(i,end=\" \")\n",
    "        listt.append(i-gap[-1])\n",
    "        gap.append(i)\n",
    "print()\n",
    "print(\"gap between the numbers\",listt)\n",
    "\n",
    "#gap between the numbers [1:3-2, 2:5-3, 2:7-5, 4, 2, 4, 2]"
   ]
  },
  {
   "cell_type": "code",
   "execution_count": 25,
   "id": "4827d3d3-3feb-44c1-970d-0439c855531d",
   "metadata": {},
   "outputs": [
    {
     "name": "stdout",
     "output_type": "stream",
     "text": [
      "3 5 7 11 13 17 19 "
     ]
    }
   ],
   "source": [
    "#Create a program to check if a given pair of numbers (a, b) are twin primes\n",
    "#(i.e., they differ by 2 and both are prime).\n",
    "n=20 \n",
    "gap=[2]\n",
    "listt=[]\n",
    "list\n",
    "for i in range(3,n+1):\n",
    "    c=0\n",
    "    for j in range(2,i//2+1):\n",
    "        if i%j==0:\n",
    "            c+=1\n",
    "            break\n",
    "    if c==0:           \n",
    "        print(i,end=\" \")\n",
    "        listt.append(i-gap[-1])\n",
    "        gap.append(i)\n",
    "        \n",
    "    for k in gap:\n",
    "        if k==2:\n",
    "            pass"
   ]
  },
  {
   "cell_type": "code",
   "execution_count": 1,
   "id": "cfc8a204-0cdc-49af-b5ae-30c68518174c",
   "metadata": {},
   "outputs": [],
   "source": [
    "#checking prime num till nth number (need perfect 20 number)\n",
    "# n=20  \n",
    "# c=0\n",
    "# n1=2\n",
    "# while c<n:\n",
    "#     for i in range(2,n//2+1):\n",
    "#         if n%i==0:\n",
    "#             c+=1\n",
    "#             break\n",
    "#         else:\n",
    "#             print(n1,end=' ')\n",
    "#             c+=1\n",
    "# n1+=1"
   ]
  },
  {
   "cell_type": "code",
   "execution_count": null,
   "id": "1467dc5a-9f6e-4ea8-8165-22fb876b8842",
   "metadata": {},
   "outputs": [],
   "source": []
  },
  {
   "cell_type": "code",
   "execution_count": null,
   "id": "f1784e8e-45c1-4cb7-b76f-50b91ceb81af",
   "metadata": {},
   "outputs": [],
   "source": []
  },
  {
   "cell_type": "code",
   "execution_count": null,
   "id": "81135d83-d223-4ed5-a3f3-4a234728f306",
   "metadata": {},
   "outputs": [],
   "source": []
  },
  {
   "cell_type": "markdown",
   "id": "d91bb995-8578-49e1-9efb-dc6667672cd3",
   "metadata": {},
   "source": [
    "Palindrome"
   ]
  },
  {
   "cell_type": "code",
   "execution_count": 13,
   "id": "3791f4ff-fa5a-46de-9551-fbb994839590",
   "metadata": {},
   "outputs": [
    {
     "name": "stdout",
     "output_type": "stream",
     "text": [
      "reverse of number: 13\n",
      "31 is not palindrome\n"
     ]
    }
   ],
   "source": [
    "#Check if the number is palindrome\n",
    "n=31\n",
    "num=n\n",
    "rev=0\n",
    "\n",
    "#while loop\n",
    "while n!=0:\n",
    "    rem=n%10\n",
    "    rev=rev*10+rem\n",
    "    n=n//10\n",
    "print(\"reverse of number:\",rev)\n",
    "if num==rev:\n",
    "    print(f\"{num} is palindrome\")\n",
    "else:\n",
    "    print(f\"{num} is not palindrome\")\n"
   ]
  },
  {
   "cell_type": "code",
   "execution_count": 12,
   "id": "082271f9-a7f2-436c-9edc-fe71c3cb28e7",
   "metadata": {},
   "outputs": [
    {
     "name": "stdout",
     "output_type": "stream",
     "text": [
      "151\n",
      "151 is palindrome\n"
     ]
    }
   ],
   "source": [
    "#for loop\n",
    "n=151\n",
    "num=n\n",
    "rev=0\n",
    "for i in range(len(str(n))):\n",
    "     rem=n%10\n",
    "     rev=rev*10+rem\n",
    "     n=n//10\n",
    "print(rev)\n",
    "if num==rev:\n",
    "     print(f\"{num} is palindrome\")\n",
    "else:\n",
    "     print(f\"{num} is not palindrome\")"
   ]
  },
  {
   "cell_type": "code",
   "execution_count": 9,
   "id": "6342b40d-163f-4762-a332-8fa887c26a9d",
   "metadata": {},
   "outputs": [
    {
     "name": "stdout",
     "output_type": "stream",
     "text": [
      "sum is 302\n",
      "reverse of number: 151\n",
      "151 is palindrome\n"
     ]
    }
   ],
   "source": [
    "#Write a program that calculates the sum of all palindromic numbers less than\n",
    "#or equal to a given number n\n",
    "\n",
    "# n=151\n",
    "# num=n\n",
    "# rev=0\n",
    "# summ=0\n",
    "# #while loop\n",
    "# while n!=0:\n",
    "#     rem=n%10\n",
    "#     rev=rev*10+rem\n",
    "#     n=n//10\n",
    "# while summ<=num:\n",
    "#     summ+=rev\n",
    "# print(\"sum is\",summ)\n",
    "\n",
    "# print(\"reverse of number:\",rev)\n",
    "# if num==rev:\n",
    "#     print(f\"{num} is palindrome\")\n",
    "# else:\n",
    "#     print(f\"{num} is not palindrome\")"
   ]
  },
  {
   "cell_type": "code",
   "execution_count": 18,
   "id": "ae1486e3-86db-480e-8b96-d4258d174325",
   "metadata": {},
   "outputs": [
    {
     "name": "stdout",
     "output_type": "stream",
     "text": [
      "101 is prime no and palindrome\n"
     ]
    }
   ],
   "source": [
    "#Write a program that checks if a given number is both prime and a palindrome\n",
    "#(reads the same forwards and backwards).\n",
    "n=101\n",
    "num=n\n",
    "rev=0\n",
    "count=0\n",
    "#while loop\n",
    "while n!=0:\n",
    "    rem=n%10\n",
    "    rev=rev*10+rem\n",
    "    n=n//10\n",
    "for i in range(2,num//2+1):\n",
    "        if num%i==0:\n",
    "            count+=1\n",
    "            break\n",
    "if count==0 and num==rev:\n",
    "         print(f\"{num} is prime no and palindrome\")\n",
    "elif count==0:\n",
    "        print(f\"{num} is only prime\")\n",
    "else:\n",
    "        print(f\"{num} is not a palindrome\")\n",
    "\n"
   ]
  },
  {
   "cell_type": "code",
   "execution_count": null,
   "id": "fb327093-f41c-4442-8d5d-97931c22ebbb",
   "metadata": {},
   "outputs": [],
   "source": []
  },
  {
   "cell_type": "code",
   "execution_count": null,
   "id": "c5c66ace-7a56-46fd-8fea-dc085d4e3cac",
   "metadata": {},
   "outputs": [],
   "source": []
  },
  {
   "cell_type": "code",
   "execution_count": null,
   "id": "29531b30-2c26-4d1c-a5ba-0ad6f9ed7334",
   "metadata": {},
   "outputs": [],
   "source": []
  },
  {
   "cell_type": "markdown",
   "id": "5a2b9044-4477-4e1e-8fb9-79f6ffcbbd03",
   "metadata": {},
   "source": [
    "PERFECT NUMBER"
   ]
  },
  {
   "cell_type": "code",
   "execution_count": 15,
   "id": "c73abcdd-05e8-4ed1-8e8a-cc2268836f50",
   "metadata": {},
   "outputs": [
    {
     "name": "stdout",
     "output_type": "stream",
     "text": [
      "1\n",
      "2\n",
      "3\n",
      "6 is a perfect number\n"
     ]
    }
   ],
   "source": [
    "#Write a program to check if a given number n is a perfect number.\n",
    "#(A perfect number is a number equal to the sum of its proper divisors.)\n",
    "n=6\n",
    "num=n\n",
    "summ=0\n",
    "for i in range(1,n):\n",
    "    if n%i==0:\n",
    "        print(i)\n",
    "        summ+=i\n",
    "if summ==n:\n",
    "    print(f\"{n} is a perfect number\")\n",
    "else:\n",
    "    print(f\"{n} is a Not a perfect number\")"
   ]
  },
  {
   "cell_type": "code",
   "execution_count": 16,
   "id": "6ff95180-c6e0-4a46-a434-72b081ae0a2b",
   "metadata": {},
   "outputs": [
    {
     "name": "stdin",
     "output_type": "stream",
     "text": [
      "till how many numbers:  10\n"
     ]
    },
    {
     "name": "stdout",
     "output_type": "stream",
     "text": [
      "6\n"
     ]
    }
   ],
   "source": [
    "#Create a program to print all perfect numbers less than or equal to a \n",
    "#given number n\n",
    "\n",
    "n=int(input(\"till how many numbers: \"))\n",
    "for i in range(1,n):\n",
    "    summ=0\n",
    "    for j in range(1,i//2+1):\n",
    "        if i%j==0:\n",
    "            summ+=j\n",
    "    if summ==i:\n",
    "        print(i)"
   ]
  },
  {
   "cell_type": "code",
   "execution_count": 17,
   "id": "e1689932-abb3-4d44-ba75-670a737d602a",
   "metadata": {},
   "outputs": [
    {
     "name": "stdin",
     "output_type": "stream",
     "text": [
      "start:  10\n",
      "end:  30\n"
     ]
    },
    {
     "name": "stdout",
     "output_type": "stream",
     "text": [
      "28\n",
      "sum of perfect numbers: 28\n"
     ]
    }
   ],
   "source": [
    "#Sum of Perfect Numbers in a Range\n",
    "#Write a program to find the sum of all perfect numbers between two given numbers a and b.\n",
    "a=int(input(\"start: \"))\n",
    "b=int(input(\"end: \"))\n",
    "total=0\n",
    "for i in range(a,b):\n",
    "        summ=0\n",
    "        for j in range(1,i//2+1):\n",
    "            if i%j==0:\n",
    "                summ+=j\n",
    "        if summ==i:\n",
    "            print(i)\n",
    "            total+=i\n",
    "        \n",
    "print(\"sum of perfect numbers:\",total)\n",
    "        "
   ]
  },
  {
   "cell_type": "code",
   "execution_count": 66,
   "id": "40cc1db9-3f84-44ae-a4e7-68dc960dd825",
   "metadata": {},
   "outputs": [
    {
     "name": "stdin",
     "output_type": "stream",
     "text": [
      "start:  1\n",
      "end:  1000\n"
     ]
    },
    {
     "name": "stdout",
     "output_type": "stream",
     "text": [
      "6 28 496 \n",
      "nth perfect number: 496\n"
     ]
    }
   ],
   "source": [
    "#Implement a program to find the nth perfect number.\n",
    "a=int(input(\"start: \"))\n",
    "b=int(input(\"end: \"))\n",
    "nth=0\n",
    "for i in range(a,b):\n",
    "        summ=0\n",
    "        for j in range(1,i//2+1):\n",
    "            if i%j==0:\n",
    "                summ+=j\n",
    "        if summ==i:\n",
    "            print(i,end=' ')\n",
    "            nth=i\n",
    "print()    \n",
    "print(\"nth perfect number:\",nth)"
   ]
  },
  {
   "cell_type": "code",
   "execution_count": null,
   "id": "dbe21157-8fbb-4101-a7d1-8e5cc142b30a",
   "metadata": {},
   "outputs": [],
   "source": []
  },
  {
   "cell_type": "code",
   "execution_count": null,
   "id": "1acadd59-8623-49de-a3b1-ac7b77a34228",
   "metadata": {},
   "outputs": [],
   "source": []
  },
  {
   "cell_type": "code",
   "execution_count": null,
   "id": "cb44275e-c6ab-49c1-977d-28c7f2e96593",
   "metadata": {},
   "outputs": [],
   "source": []
  },
  {
   "cell_type": "markdown",
   "id": "c5c388cb-567d-4257-b882-21dd4f3dbe46",
   "metadata": {},
   "source": [
    "HCF"
   ]
  },
  {
   "cell_type": "code",
   "execution_count": 2,
   "id": "015bf34e-99b6-45b0-9c86-ebf00d385579",
   "metadata": {},
   "outputs": [
    {
     "name": "stdout",
     "output_type": "stream",
     "text": [
      "2\n"
     ]
    }
   ],
   "source": [
    "#Write a program to calculate the HCF of two given numbers using a loop-based approach.\n",
    "a=6\n",
    "b=70\n",
    "c=min(a,b)\n",
    "for i in range(1,c+1):\n",
    "    if a%i==0 and b%i==0:\n",
    "        hcf=i\n",
    "print(hcf)"
   ]
  },
  {
   "cell_type": "code",
   "execution_count": 7,
   "id": "5cea6d9a-e32b-4936-b329-23332a27b597",
   "metadata": {},
   "outputs": [
    {
     "name": "stdin",
     "output_type": "stream",
     "text": [
      "a: 6\n",
      "b: 9\n"
     ]
    },
    {
     "name": "stdout",
     "output_type": "stream",
     "text": [
      "HCF: 3\n"
     ]
    }
   ],
   "source": [
    "#using Eucdian's algorithm \n",
    "a=int(input(\"a:\"))\n",
    "b=int(input(\"b:\"))\n",
    "while b!=0:\n",
    "    a,b=b,a%b\n",
    "print(\"HCF:\",a)"
   ]
  },
  {
   "cell_type": "code",
   "execution_count": null,
   "id": "243d7b05-bd8a-4750-9b20-bd110def9231",
   "metadata": {},
   "outputs": [],
   "source": [
    "#Create a program to find the HCF of an array of numbers.\n"
   ]
  },
  {
   "cell_type": "code",
   "execution_count": 5,
   "id": "a556c12e-256d-463f-b6ce-54fa3d8a14de",
   "metadata": {},
   "outputs": [
    {
     "name": "stdout",
     "output_type": "stream",
     "text": [
      "24\n"
     ]
    }
   ],
   "source": [
    "#lcm\n",
    "a=6\n",
    "b=8\n",
    "c=max(a,b)\n",
    "for i in range(c,a*b+1):\n",
    "    if i%a==0 and i%b==0:\n",
    "        lcm=i\n",
    "        break\n",
    "print(lcm)"
   ]
  },
  {
   "cell_type": "code",
   "execution_count": null,
   "id": "ae29a9d9-9e8b-4eb6-861f-99045d4597c0",
   "metadata": {},
   "outputs": [],
   "source": []
  },
  {
   "cell_type": "code",
   "execution_count": null,
   "id": "7faf57f9-230d-45b8-abe8-00f4c62027d4",
   "metadata": {},
   "outputs": [],
   "source": []
  },
  {
   "cell_type": "code",
   "execution_count": null,
   "id": "0f353291-3ae1-4a12-8ff4-022f91e188e1",
   "metadata": {},
   "outputs": [],
   "source": []
  },
  {
   "cell_type": "markdown",
   "id": "79e93924-22f7-41e1-a37b-bb26ea3079fc",
   "metadata": {},
   "source": [
    "AMSTRONG NUMBER\n"
   ]
  },
  {
   "cell_type": "code",
   "execution_count": 11,
   "id": "eafe93ab-92dc-469b-9d21-38cb3d94280a",
   "metadata": {},
   "outputs": [
    {
     "name": "stdout",
     "output_type": "stream",
     "text": [
      "963\n",
      "1534 is not an Amstrong number\n"
     ]
    }
   ],
   "source": [
    "#Write a program to check if a given number with multiple digits is an \n",
    "#Armstrong number.\n",
    "n=1534\n",
    "num=n\n",
    "l=len(str((n)))\n",
    "digit=0\n",
    "for i in range(1,l+1):\n",
    "    rem=n%10\n",
    "    digit=digit+rem**l\n",
    "    n=n//10\n",
    "print(digit)\n",
    "if  num==digit:\n",
    "    print(f\"{num} is an amstrong number\")\n",
    "else:\n",
    "    print(f\"{num} is not an Amstrong number\")\n",
    "    "
   ]
  },
  {
   "cell_type": "code",
   "execution_count": 26,
   "id": "dc0b1310-657f-4a6a-b3f0-cf70613d5e00",
   "metadata": {},
   "outputs": [
    {
     "name": "stdin",
     "output_type": "stream",
     "text": [
      "a 100\n",
      "b 500\n"
     ]
    },
    {
     "name": "stdout",
     "output_type": "stream",
     "text": [
      "Amstrong number are:  153\n",
      "Amstrong number are:  370\n",
      "Amstrong number are:  371\n",
      "Amstrong number are:  407\n"
     ]
    }
   ],
   "source": [
    "#Create a program to find and display all Armstrong numbers between two user-provided numbers, low and high\n",
    "a=int(input(\"a\"))\n",
    "b=int(input(\"b\"))\n",
    "for i in range (a,b+1):\n",
    "    digit=0\n",
    "    temp=i\n",
    "    l=len(str(i))\n",
    "    for j in range(1,l+1):\n",
    "        rem=temp%10\n",
    "        digit=digit+rem**l\n",
    "        temp=temp//10\n",
    "    if digit==i:\n",
    "        print(\"Amstrong number are: \",i)\n",
    "        "
   ]
  },
  {
   "cell_type": "code",
   "execution_count": 11,
   "id": "3b072d6c-84c8-4619-9e18-535ccc176d33",
   "metadata": {},
   "outputs": [
    {
     "name": "stdin",
     "output_type": "stream",
     "text": [
      "a 1\n",
      "b 1000\n"
     ]
    },
    {
     "name": "stdout",
     "output_type": "stream",
     "text": [
      "Amstrong number are:  1\n",
      "Amstrong number are:  2\n",
      "Amstrong number are:  3\n",
      "Amstrong number are:  4\n",
      "Amstrong number are:  5\n",
      "Amstrong number are:  6\n",
      "Amstrong number are:  7\n",
      "Amstrong number are:  8\n",
      "Amstrong number are:  9\n",
      "Amstrong number are:  153\n",
      "Amstrong number are:  370\n",
      "Amstrong number are:  371\n",
      "Amstrong number are:  407\n",
      "um is:\n"
     ]
    }
   ],
   "source": [
    "#Sum of Armstrong Numbers in a Range:\n",
    "a=int(input(\"a\"))\n",
    "b=int(input(\"b\"))\n",
    "for i in range (a,b+1):\n",
    "    digit=0\n",
    "    temp=i\n",
    "    l=len(str(i))\n",
    "    for j in range(1,l+1):\n",
    "        rem=temp%10\n",
    "        digit=digit+rem**l\n",
    "        temp=temp//10\n",
    "    if digit==i:\n",
    "        print(\"Amstrong number are: \",i)\n",
    "        sum+=digit\n",
    "print(\"um is:\",)\n"
   ]
  },
  {
   "cell_type": "code",
   "execution_count": null,
   "id": "76b6a84f-14dc-40f5-a7d6-f15c0405829f",
   "metadata": {},
   "outputs": [],
   "source": []
  },
  {
   "cell_type": "code",
   "execution_count": null,
   "id": "84a1ec3b-db15-4d2d-92eb-f713bc19a90e",
   "metadata": {},
   "outputs": [],
   "source": []
  },
  {
   "cell_type": "code",
   "execution_count": null,
   "id": "bb71e905-a80a-4312-9043-ddfb55f82275",
   "metadata": {},
   "outputs": [],
   "source": []
  },
  {
   "cell_type": "markdown",
   "id": "a9951e82-0135-48c9-b99a-949ca31f5b6b",
   "metadata": {},
   "source": [
    "SUPER DIGIT"
   ]
  },
  {
   "cell_type": "code",
   "execution_count": 50,
   "id": "cccab606-d042-4289-9dd9-97664387ca01",
   "metadata": {},
   "outputs": [
    {
     "name": "stdout",
     "output_type": "stream",
     "text": [
      "8\n"
     ]
    }
   ],
   "source": [
    "#Find Super Digit of a Single Number\n",
    "n=125\n",
    "\n",
    "l=len(str(n))\n",
    "digit=0\n",
    "for i in range(1,l+1):\n",
    "        digit += n % 10\n",
    "        n //= 10 \n",
    "print(digit)  \n",
    "\n",
    "    "
   ]
  },
  {
   "cell_type": "code",
   "execution_count": 6,
   "id": "37fced03-1b7c-41c7-b85d-0a0408acabcd",
   "metadata": {},
   "outputs": [
    {
     "name": "stdout",
     "output_type": "stream",
     "text": [
      "5\n"
     ]
    }
   ],
   "source": [
    "#Super Digit of a Large Number\n",
    "n=178745\n",
    "l=len(str(n))\n",
    "while n>10:\n",
    "    digit=0\n",
    "    while n>0:\n",
    "        digit += n % 10\n",
    "        n //= 10 \n",
    "    n=digit \n",
    "print(digit)\n",
    "        \n"
   ]
  },
  {
   "cell_type": "markdown",
   "id": "f17bcc17-6335-43ea-adb7-345cba727e8a",
   "metadata": {},
   "source": [
    "DISARIUM NUMBER"
   ]
  },
  {
   "cell_type": "code",
   "execution_count": 22,
   "id": "82d96a8c-38b2-415e-b09c-c841c6fb546a",
   "metadata": {},
   "outputs": [
    {
     "name": "stdout",
     "output_type": "stream",
     "text": [
      "[8, 9]\n",
      "Sum of Disarium number is : 89\n",
      "89 is a Disarium number\n"
     ]
    }
   ],
   "source": [
    "n=89\n",
    "num=n\n",
    "list=[int(i) for i in str(n)]\n",
    "print(list)\n",
    "sum=0\n",
    "for i in range(len(list)):\n",
    "    sum=sum+list[i]**(i+1)\n",
    "print(\"Sum of Disarium number is :\",sum) \n",
    "\n",
    "if num==sum:\n",
    "    print(f\"{num} is a Disarium number\")\n",
    "else:\n",
    "    print(f\"{num} is not a Disarium number\")"
   ]
  },
  {
   "cell_type": "code",
   "execution_count": 42,
   "id": "3c325fe7-d419-41e1-adb1-16da2ab1823c",
   "metadata": {},
   "outputs": [
    {
     "name": "stdin",
     "output_type": "stream",
     "text": [
      "a: 1\n",
      "b: 100\n"
     ]
    },
    {
     "name": "stdout",
     "output_type": "stream",
     "text": [
      "Disarium numbers are 1 and 100 are:\n",
      "Disarium number is 1\n",
      "Disarium number is 2\n",
      "Disarium number is 3\n",
      "Disarium number is 4\n",
      "Disarium number is 5\n",
      "Disarium number is 6\n",
      "Disarium number is 7\n",
      "Disarium number is 8\n",
      "Disarium number is 9\n",
      "Disarium number is 89\n"
     ]
    }
   ],
   "source": [
    "#Find All Disarium Numbers Up to a Given Limit\n",
    "a=int(input(\"a:\"))\n",
    "b=int(input(\"b:\"))\n",
    "print(f\"Disarium numbers are {a} and {b} are:\")\n",
    "for i in range(a,b+1):\n",
    "    string=str(i)\n",
    "    sum=0\n",
    "    for j in range(len(string)):\n",
    "        sum+=int(string[j])**(j+1)\n",
    "        if sum==i:\n",
    "            print(f\"Disarium number is {sum}\")"
   ]
  },
  {
   "cell_type": "code",
   "execution_count": 67,
   "id": "8e26c4a7-4405-4d58-ba1d-29b743186ef3",
   "metadata": {},
   "outputs": [
    {
     "name": "stdout",
     "output_type": "stream",
     "text": [
      "Binary of 3: 11\n",
      "2\n",
      "3 is not a special number\n"
     ]
    }
   ],
   "source": [
    "# #Disarium Number for Any Base(convert the number into binary and check if the disarium property , if sum == whole number or not )\n",
    "# n=3\n",
    "# num=n\n",
    "# binary=''\n",
    "# digit=0\n",
    "# while n>0:\n",
    "#     binary=str(n%2)+binary\n",
    "#     n//=2\n",
    "# print(f\"Binary of {num}:\",binary)\n",
    "\n",
    "# for i in range(len(binary)):\n",
    "#     digit += int(binary[i]) ** (len(binary) - i)\n",
    "# print(digit)\n",
    "\n",
    "# if digit==num:\n",
    "#     print(f\" Disarium of binary is {digit} is equal to original number{num} \")"
   ]
  },
  {
   "cell_type": "code",
   "execution_count": null,
   "id": "a59dc56c-553e-49fe-8373-0522f28a6c3c",
   "metadata": {},
   "outputs": [],
   "source": []
  },
  {
   "cell_type": "code",
   "execution_count": null,
   "id": "a6733f5a-a951-4b59-b178-55aaa2558519",
   "metadata": {},
   "outputs": [],
   "source": []
  },
  {
   "cell_type": "code",
   "execution_count": null,
   "id": "13acbf52-3db7-48ac-a7b6-1855149259dd",
   "metadata": {},
   "outputs": [],
   "source": []
  },
  {
   "cell_type": "markdown",
   "id": "442f51c3-d548-4248-a233-d7f645829093",
   "metadata": {},
   "source": [
    "STONG NUMBER"
   ]
  },
  {
   "cell_type": "code",
   "execution_count": 10,
   "id": "811ac7b1-5312-4605-ac3a-4942eef7c33f",
   "metadata": {},
   "outputs": [
    {
     "name": "stdout",
     "output_type": "stream",
     "text": [
      "1\n",
      "145\n",
      "strong number\n"
     ]
    }
   ],
   "source": [
    "#Check if a Given Number is a Strong Number\n",
    "n=145\n",
    "num=n\n",
    "sum=0\n",
    "while n>0:\n",
    "    rem=n%10\n",
    "    fact=1\n",
    "    for i in range(1,rem+1):\n",
    "        fact=fact*i \n",
    "    sum+=fact\n",
    "    n//=10\n",
    "print(fact)\n",
    "print(sum)\n",
    "if sum==num:\n",
    "    print(\"strong number\")\n",
    "else:\n",
    "    print(\"not a strong number\")"
   ]
  },
  {
   "cell_type": "code",
   "execution_count": null,
   "id": "639e19ba-d4e6-43db-837f-3fc2c6c2a337",
   "metadata": {},
   "outputs": [],
   "source": []
  },
  {
   "cell_type": "code",
   "execution_count": null,
   "id": "75b4daec-3ce8-4a81-a469-5c04749a81a6",
   "metadata": {},
   "outputs": [],
   "source": []
  },
  {
   "cell_type": "code",
   "execution_count": null,
   "id": "871bf9bf-e6c2-438c-b7ec-0d81227690cd",
   "metadata": {},
   "outputs": [],
   "source": []
  },
  {
   "cell_type": "markdown",
   "id": "9ca46c57-ec44-4ada-bf78-e24f27f8d54d",
   "metadata": {},
   "source": [
    "SPECIAL NUMBER"
   ]
  },
  {
   "cell_type": "code",
   "execution_count": 13,
   "id": "a853b52c-d000-4439-a852-cda9fcefc9a4",
   "metadata": {},
   "outputs": [
    {
     "name": "stdout",
     "output_type": "stream",
     "text": [
      "13\n",
      "36\n",
      "49 is a super number\n"
     ]
    }
   ],
   "source": [
    "n=49\n",
    "num=n\n",
    "sum=0\n",
    "prod=1\n",
    "l=len(str(n))\n",
    "for i in range(1,l+1):\n",
    "    rem=n%10\n",
    "    sum+=rem\n",
    "    prod*=rem\n",
    "    n//=10\n",
    "real_num=sum+prod\n",
    "print(sum)\n",
    "print(prod)\n",
    "if num==real_num:\n",
    "    print(f\"{num} is a super number\")\n",
    "else:\n",
    "    print(f\"{num} is not a super number\")"
   ]
  },
  {
   "cell_type": "code",
   "execution_count": null,
   "id": "012d0d7f-0036-452b-8c6a-8ef329138120",
   "metadata": {},
   "outputs": [],
   "source": []
  },
  {
   "cell_type": "code",
   "execution_count": 18,
   "id": "6e6eda3e-afa4-4a3a-a136-8039e4955af3",
   "metadata": {},
   "outputs": [
    {
     "name": "stdout",
     "output_type": "stream",
     "text": [
      "6\n"
     ]
    }
   ],
   "source": [
    "#wap to print max number present in given number\n",
    "n=123456\n",
    "s=str(n)\n",
    "max=s[0]\n",
    "for i in range(1,len(s)):\n",
    "    if s[i]>max:\n",
    "        max=s[i]\n",
    "print(int(max))\n",
    "   "
   ]
  },
  {
   "cell_type": "code",
   "execution_count": 20,
   "id": "e8b23c1a-1d9c-45c6-b8c6-a2394ea67c30",
   "metadata": {},
   "outputs": [
    {
     "name": "stdout",
     "output_type": "stream",
     "text": [
      "0\n"
     ]
    }
   ],
   "source": [
    "#wap to print max number present in a given number\n",
    "n=679045\n",
    "s=str(n)\n",
    "min=s[0]\n",
    "for i in range(1,len(s)):\n",
    "    if s[i]<min:\n",
    "        min=s[i]\n",
    "print(int(min))"
   ]
  },
  {
   "cell_type": "code",
   "execution_count": null,
   "id": "89394162-09ee-42e1-857a-fe59cfeed185",
   "metadata": {},
   "outputs": [],
   "source": []
  }
 ],
 "metadata": {
  "kernelspec": {
   "display_name": "Python 3 (ipykernel)",
   "language": "python",
   "name": "python3"
  },
  "language_info": {
   "codemirror_mode": {
    "name": "ipython",
    "version": 3
   },
   "file_extension": ".py",
   "mimetype": "text/x-python",
   "name": "python",
   "nbconvert_exporter": "python",
   "pygments_lexer": "ipython3",
   "version": "3.12.4"
  }
 },
 "nbformat": 4,
 "nbformat_minor": 5
}
